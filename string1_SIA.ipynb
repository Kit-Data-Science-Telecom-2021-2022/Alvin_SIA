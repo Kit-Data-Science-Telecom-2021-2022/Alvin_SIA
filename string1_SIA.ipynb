{
 "cells": [
  {
   "cell_type": "code",
   "execution_count": 1,
   "metadata": {},
   "outputs": [],
   "source": [
    "# A. donuts\n",
    "# Given an int count of a number of donuts, return a string\n",
    "# of the form 'Number of donuts: <count>', where <count> is the number\n",
    "# passed in. However, if the count is 10 or more, then use the word 'many'\n",
    "# instead of the actual count.\n",
    "# So donuts(5) returns 'Number of donuts: 5'\n",
    "# and donuts(23) returns 'Number of donuts: many'\n",
    "def donuts(count):\n",
    "    if count < 10:\n",
    "        return 'number of donuts: ' + str(count)\n",
    "    else:\n",
    "        return 'number of donuts: alot of donuts'"
   ]
  },
  {
   "cell_type": "code",
   "execution_count": 2,
   "metadata": {},
   "outputs": [],
   "source": [
    "# B. both_ends\n",
    "# Given a string s, return a string made of the first 2\n",
    "# and the last 2 chars of the original string,\n",
    "# so 'spring' yields 'spng'. However, if the string length\n",
    "# is less than 2, return instead the empty string.\n",
    "def both_ends(s):\n",
    "    if len(s) < 2:\n",
    "        return ''\n",
    "    first = s[0:2]\n",
    "    last = s[-2:]\n",
    "    return first + last"
   ]
  },
  {
   "cell_type": "code",
   "execution_count": 4,
   "metadata": {},
   "outputs": [],
   "source": [
    "# C. fix_start\n",
    "# Given a string s, return a string\n",
    "# where all occurences of its first char have\n",
    "# been changed to '*', except do not change\n",
    "# the first char itself.\n",
    "# e.g. 'babble' yields 'ba**le'\n",
    "# Assume that the string is length 1 or more.\n",
    "# Hint: s.replace(stra, strb) returns a version of string s\n",
    "# where all instances of stra have been replaced by strb.\n",
    "def fix_beginning(s):\n",
    "    beginning = s[0]\n",
    "    end = s[1:]\n",
    "    fixed_end = end.replace(beginning, '*')\n",
    "    return beginning + fixed_end"
   ]
  },
  {
   "cell_type": "code",
   "execution_count": 5,
   "metadata": {},
   "outputs": [],
   "source": [
    "# D. MixUp\n",
    "# Given strings a and b, return a single string with a and b separated\n",
    "# by a space '<a> <b>', except swap the first 2 chars of each string.\n",
    "# e.g.\n",
    "#   'mix', pod' -> 'pox mid'\n",
    "#   'dog', 'dinner' -> 'dig donner'\n",
    "# Assume a and b are length 2 or more.\n",
    "def mix_up(a, b):\n",
    "    a_swap = b[:2] + a[2:]\n",
    "    b_swap= a[:2] + b[2:]\n",
    "    return a_swap + ' ' + b_swap"
   ]
  },
  {
   "cell_type": "code",
   "execution_count": 14,
   "metadata": {},
   "outputs": [],
   "source": [
    "# Provided simple test() function used in main() to print\n",
    "# what each function returns vs. what it's supposed to return.\n",
    "def test(got, expected):\n",
    "    if got == expected:\n",
    "        prefix = ' OK '\n",
    "    else:\n",
    "        prefix = '  X '\n",
    "    print('{} got: {} expected: {}'.format(prefix, repr(got), repr(expected)))"
   ]
  },
  {
   "cell_type": "code",
   "execution_count": 27,
   "metadata": {},
   "outputs": [],
   "source": [
    "# Provided main() calls the above functions with interesting inputs,\n",
    "# using test() to check if each result is correct or not.\n",
    "def main():\n",
    "    print('donuts')\n",
    "  # Each line calls donuts, compares its result to the expected for that call.\n",
    "    test(donuts(5), 'number of donuts: 5')\n",
    "    test(donuts(10), 'number of donuts: alot of donuts')\n",
    "    test(donuts(999), 'number of donuts: alot of donuts')\n",
    "\n",
    "    print\n",
    "    print('both_ends')\n",
    "    test(both_ends('jonesbrothers'), 'jors')\n",
    "    test(both_ends('telecom'), 'teom')\n",
    "    test(both_ends('g'), '')\n",
    "    test(both_ends('abc'), 'abbc')\n",
    "\n",
    "\n",
    "    print\n",
    "    print('fix_beginning')\n",
    "    test(fix_beginning('babble'), 'ba**le')\n",
    "    test(fix_beginning('indeed'), 'indeed')\n",
    "    test(fix_beginning('bombarded'), 'bom*arded')\n",
    "    test(fix_beginning('pean*t'), 'pean*t')\n",
    "\n",
    "    print\n",
    "    print('mix_up')\n",
    "    test(mix_up('hot', 'dog'), 'dot hog')\n",
    "    test(mix_up('kebab', 'fries'), 'frbab keies')\n",
    "    test(mix_up('sky', 'scrapper'), 'scy skrapper')\n",
    "    test(mix_up('alvin', 'sia'), 'sivin ala')"
   ]
  },
  {
   "cell_type": "code",
   "execution_count": 28,
   "metadata": {},
   "outputs": [
    {
     "name": "stdout",
     "output_type": "stream",
     "text": [
      "donuts\n",
      " OK  got: 'number of donuts: 5' expected: 'number of donuts: 5'\n",
      " OK  got: 'number of donuts: alot of donuts' expected: 'number of donuts: alot of donuts'\n",
      " OK  got: 'number of donuts: alot of donuts' expected: 'number of donuts: alot of donuts'\n",
      "both_ends\n",
      " OK  got: 'jors' expected: 'jors'\n",
      " OK  got: 'teom' expected: 'teom'\n",
      " OK  got: '' expected: ''\n",
      " OK  got: 'abbc' expected: 'abbc'\n",
      "fix_beginning\n",
      " OK  got: 'ba**le' expected: 'ba**le'\n",
      " OK  got: 'indeed' expected: 'indeed'\n",
      " OK  got: 'bom*arded' expected: 'bom*arded'\n",
      " OK  got: 'pean*t' expected: 'pean*t'\n",
      "mix_up\n",
      " OK  got: 'dot hog' expected: 'dot hog'\n",
      " OK  got: 'frbab keies' expected: 'frbab keies'\n",
      " OK  got: 'scy skrapper' expected: 'scy skrapper'\n",
      " OK  got: 'sivin ala' expected: 'sivin ala'\n"
     ]
    }
   ],
   "source": [
    "# Standard boilerplate to call the main() function.\n",
    "if __name__ == '__main__':\n",
    "  main()"
   ]
  },
  {
   "cell_type": "code",
   "execution_count": null,
   "metadata": {},
   "outputs": [],
   "source": []
  }
 ],
 "metadata": {
  "kernelspec": {
   "display_name": "Python 3",
   "language": "python",
   "name": "python3"
  },
  "language_info": {
   "codemirror_mode": {
    "name": "ipython",
    "version": 3
   },
   "file_extension": ".py",
   "mimetype": "text/x-python",
   "name": "python",
   "nbconvert_exporter": "python",
   "pygments_lexer": "ipython3",
   "version": "3.8.5"
  }
 },
 "nbformat": 4,
 "nbformat_minor": 4
}
