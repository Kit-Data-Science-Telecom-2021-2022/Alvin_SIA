{
 "cells": [
  {
   "cell_type": "code",
   "execution_count": 6,
   "metadata": {},
   "outputs": [],
   "source": [
    "import sys"
   ]
  },
  {
   "cell_type": "code",
   "execution_count": 20,
   "metadata": {},
   "outputs": [],
   "source": [
    "def word_count(filename):                #helper utility function to get the word/count\n",
    "    dict_1 = {}\n",
    "    f=open(filename,'r')    \n",
    "    text = ((f.read()).lower()).split() # f.read() returns a single string including all words in file,\n",
    "                                         #split() to split on all whitespace \n",
    "    for word in text:                \n",
    "        if word in dict_1.keys():\n",
    "            dict_1[word] += 1\n",
    "        else:\n",
    "            dict_1[word] = 1\n",
    "    return dict_1                       #return a dict of {word:count}\n",
    "     "
   ]
  },
  {
   "cell_type": "code",
   "execution_count": 21,
   "metadata": {},
   "outputs": [],
   "source": [
    "def print_words(filename):\n",
    "    dict_2 = word_count(filename)\n",
    "    for k in sorted(dict_2.keys()):   #list in order sorted by keys and common error:sorted() return a 'list' not a 'dict\n",
    "        print (k,dict_2[k])"
   ]
  },
  {
   "cell_type": "code",
   "execution_count": 22,
   "metadata": {},
   "outputs": [],
   "source": [
    "def print_top(filename):\n",
    "     dict_2 = word_count(filename)"
   ]
  },
  {
   "cell_type": "code",
   "execution_count": 23,
   "metadata": {},
   "outputs": [],
   "source": [
    "def get_value(tup):\n",
    "    return tup[-1]\n",
    "\n",
    "    dict_3 = sorted(dict_2.items(),key=get_value,reverse=True)  #to get the top common words\n",
    "                                                                 #items() to get the dict to list of tuples\n",
    "    for k,v in dict_3[:20]:\n",
    "            print (k,v)"
   ]
  },
  {
   "cell_type": "code",
   "execution_count": 24,
   "metadata": {},
   "outputs": [],
   "source": [
    "def main():                          \n",
    "    if len(sys.argv) != 3:          \n",
    "        print ('usage: ./wordcount.py {--count | --topcount} file')\n",
    "        sys.exit(1)\n",
    " \n",
    "    option = sys.argv[1]\n",
    "    filename = sys.argv[2]\n",
    "    if option == '--count':\n",
    "        print_words(filename)\n",
    "    elif option == '--topcount':\n",
    "        print_top(filename)\n",
    "    else:\n",
    "        print ('unknown option: ' + option)\n",
    "        sys.exit(1) \n",
    " "
   ]
  },
  {
   "cell_type": "code",
   "execution_count": null,
   "metadata": {},
   "outputs": [],
   "source": [
    "if __name__ == '__main__':\n",
    "     main()"
   ]
  }
 ],
 "metadata": {
  "kernelspec": {
   "display_name": "Python 3",
   "language": "python",
   "name": "python3"
  },
  "language_info": {
   "codemirror_mode": {
    "name": "ipython",
    "version": 3
   },
   "file_extension": ".py",
   "mimetype": "text/x-python",
   "name": "python",
   "nbconvert_exporter": "python",
   "pygments_lexer": "ipython3",
   "version": "3.8.5"
  }
 },
 "nbformat": 4,
 "nbformat_minor": 4
}
